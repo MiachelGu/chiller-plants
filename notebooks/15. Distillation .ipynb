{
 "cells": [
  {
   "cell_type": "markdown",
   "metadata": {},
   "source": [
    "# Neural Network Distillation\n",
    "Ref: http://www.ttic.edu/dl/dark14.pdf"
   ]
  },
  {
   "cell_type": "code",
   "execution_count": 4,
   "metadata": {},
   "outputs": [
    {
     "name": "stdout",
     "output_type": "stream",
     "text": [
      "env: KERAS_BACKEND=tensorflow\n"
     ]
    }
   ],
   "source": [
    "%env KERAS_BACKEND=tensorflow\n",
    "%matplotlib inline"
   ]
  },
  {
   "cell_type": "code",
   "execution_count": 5,
   "metadata": {},
   "outputs": [
    {
     "name": "stderr",
     "output_type": "stream",
     "text": [
      "Using TensorFlow backend.\n"
     ]
    }
   ],
   "source": [
    "import matplotlib.pyplot as plt\n",
    "import pandas as pd\n",
    "import numpy as np\n",
    "import glob\n",
    "import os\n",
    "import common\n",
    "\n",
    "from keras.models import Sequential, load_model\n",
    "from keras.layers import Dense\n",
    "from keras.layers import LSTM\n",
    "from keras.losses import mean_squared_error\n",
    "from keras.losses import mean_absolute_percentage_error\n",
    "from keras.callbacks import TensorBoard\n",
    "\n",
    "from sklearn import preprocessing\n",
    "from sklearn import metrics"
   ]
  },
  {
   "cell_type": "code",
   "execution_count": 6,
   "metadata": {},
   "outputs": [],
   "source": [
    "from functools import lru_cache\n",
    "\n",
    "@lru_cache(maxsize=None)\n",
    "def load_keras_model(pth):\n",
    "    return load_model(pth)"
   ]
  },
  {
   "cell_type": "markdown",
   "metadata": {},
   "source": [
    "## Load data"
   ]
  },
  {
   "cell_type": "code",
   "execution_count": 32,
   "metadata": {
    "collapsed": true
   },
   "outputs": [],
   "source": [
    "df = common.load_df(\"../data/insead\", \"*.csv\")\n",
    "\n",
    "cols = [\"loadsys\", \"drybulb\", \"rh\", \"cwrhdr\", \"cwsfhdr\", \"cwshdr\"]\n",
    "df = common.Process.replace_nulls(df, cols=cols)\n",
    "df = common.Process.replace_with_near(df, cols=cols)\n",
    "df = common.Process.get_normalized_df(df, cols=cols)"
   ]
  },
  {
   "cell_type": "code",
   "execution_count": 33,
   "metadata": {},
   "outputs": [
    {
     "data": {
      "text/plain": [
       "(172659, 6)"
      ]
     },
     "execution_count": 33,
     "metadata": {},
     "output_type": "execute_result"
    }
   ],
   "source": [
    "sample = df[\"2016-01\":\"2016-04\"] # sufficiently large one..\n",
    "sample.shape"
   ]
  },
  {
   "cell_type": "markdown",
   "metadata": {},
   "source": [
    "## Predict target"
   ]
  },
  {
   "cell_type": "code",
   "execution_count": 34,
   "metadata": {
    "collapsed": true
   },
   "outputs": [],
   "source": [
    "def get_predicted_values(sample):\n",
    "    features = [\"loadsys\", \"drybulb\", \"rh\", \"cwrhdr\", \"cwsfhdr\"]\n",
    "    target = [\"cwshdr\"]\n",
    "    lookback = 15\n",
    "    batch_size = 200\n",
    "    \n",
    "    x, y = common.prepare_keras_data(sample, features, target, lookback, batch_size)\n",
    "    model = load_keras_model(\"../output/cwshdr2.h5\")\n",
    "    predicted = model.predict(x, batch_size=batch_size)\n",
    "    \n",
    "    return common.Reshape.inv_y(predicted)"
   ]
  },
  {
   "cell_type": "code",
   "execution_count": 35,
   "metadata": {},
   "outputs": [],
   "source": [
    "cwshdr_pred = get_predicted_values(sample)\n",
    "\n",
    "delta = sample.shape[0] - cwshdr_pred.shape[0]\n",
    "sample = sample[delta:]\n",
    "sample[\"cwshdr_pred\"] = cwshdr_pred"
   ]
  },
  {
   "cell_type": "markdown",
   "metadata": {
    "collapsed": true
   },
   "source": [
    "## Train model with predicted value as target\n",
    "This time the model is little less complex.. "
   ]
  },
  {
   "cell_type": "code",
   "execution_count": 40,
   "metadata": {},
   "outputs": [
    {
     "name": "stdout",
     "output_type": "stream",
     "text": [
      "(85600, 1, 75) (85600, 1, 1)\n"
     ]
    }
   ],
   "source": [
    "# manually select training and validaiton data.\n",
    "batch_size = 200\n",
    "lookback = 15\n",
    "train_df = sample[\"2016-01-01\":\"2016-02\"]\n",
    "validation_df = sample[\"2016-03-01\":\"2016-03-10\"]\n",
    "features = [\"loadsys\", \"drybulb\", \"rh\", \"cwrhdr\", \"cwsfhdr\"]\n",
    "target = [\"cwshdr_pred\"]\n",
    "\n",
    "# Prepare features and target vectors\n",
    "train_x, train_y = common.prepare_keras_data(train_df, features, target, lookback, batch_size)\n",
    "validation_x, validation_y = common.prepare_keras_data(validation_df, features, target, lookback, batch_size)\n",
    "print(train_x.shape, train_y.shape)"
   ]
  },
  {
   "cell_type": "code",
   "execution_count": null,
   "metadata": {},
   "outputs": [
    {
     "name": "stdout",
     "output_type": "stream",
     "text": [
      "At epoch  0\n"
     ]
    }
   ],
   "source": [
    "model = Sequential([\n",
    "    LSTM(75, batch_input_shape=(batch_size, train_x.shape[1], train_x.shape[2]), stateful=True, return_sequences=True),\n",
    "    LSTM(150, stateful=True, return_sequences=True),\n",
    "    Dense(1)\n",
    "])\n",
    "\n",
    "model.compile(\n",
    "    loss=mean_squared_error,\n",
    "    optimizer=\"adam\",\n",
    "    metrics=[\"accuracy\", mean_absolute_percentage_error]\n",
    ")\n",
    "\n",
    "for epoch in range(300):\n",
    "    history = model.fit(\n",
    "        x=train_x,\n",
    "        y=train_y,\n",
    "        batch_size=batch_size,\n",
    "        verbose=0,\n",
    "        shuffle=False,\n",
    "        epochs=1,\n",
    "        validation_data=(validation_x, validation_y),\n",
    "        callbacks=[TensorBoard(log_dir=\"../output/keras17\")])\n",
    "    model.reset_states()\n",
    "    if epoch % 50 == 0:\n",
    "        print(\"At epoch \", epoch)"
   ]
  },
  {
   "cell_type": "markdown",
   "metadata": {},
   "source": [
    "Ohooo! converging super fastly.. Not sure what its going to mean."
   ]
  },
  {
   "cell_type": "markdown",
   "metadata": {},
   "source": [
    "## Metrics\n",
    "Compare now the the actual values... (not the target used for modeling)"
   ]
  },
  {
   "cell_type": "code",
   "execution_count": null,
   "metadata": {
    "collapsed": true
   },
   "outputs": [],
   "source": []
  }
 ],
 "metadata": {
  "kernelspec": {
   "display_name": "Python 3",
   "language": "python",
   "name": "python3"
  },
  "language_info": {
   "codemirror_mode": {
    "name": "ipython",
    "version": 3
   },
   "file_extension": ".py",
   "mimetype": "text/x-python",
   "name": "python",
   "nbconvert_exporter": "python",
   "pygments_lexer": "ipython3",
   "version": "3.6.1"
  }
 },
 "nbformat": 4,
 "nbformat_minor": 2
}
