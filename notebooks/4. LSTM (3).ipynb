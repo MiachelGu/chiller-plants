{
 "cells": [
  {
   "cell_type": "code",
   "execution_count": 1,
   "metadata": {},
   "outputs": [
    {
     "name": "stdout",
     "output_type": "stream",
     "text": [
      "env: KERAS_BACKEND=tensorflow\n"
     ]
    }
   ],
   "source": [
    "%env KERAS_BACKEND=tensorflow\n",
    "%matplotlib inline"
   ]
  },
  {
   "cell_type": "code",
   "execution_count": 24,
   "metadata": {},
   "outputs": [],
   "source": [
    "import pandas as pd\n",
    "import numpy as np\n",
    "import glob\n",
    "import os\n",
    "\n",
    "from keras.models import Sequential\n",
    "from keras.layers import Dense\n",
    "from keras.layers import LSTM\n",
    "from keras.losses import mean_squared_error\n",
    "from keras.callbacks import TensorBoard\n",
    "from sklearn.preprocessing import MinMaxScaler"
   ]
  },
  {
   "cell_type": "markdown",
   "metadata": {},
   "source": [
    "## Load data"
   ]
  },
  {
   "cell_type": "code",
   "execution_count": 5,
   "metadata": {
    "collapsed": true
   },
   "outputs": [],
   "source": [
    "# load all csv files of Insead site. Concatenate them..\n",
    "data_src = \"../data\"\n",
    "data_dst = \"../output\"\n",
    "all_files = glob.glob(os.path.join(data_src, \"insead\", \"*.csv\"))\n",
    "df = pd.concat([pd.read_csv(f, low_memory=False) for f in all_files], ignore_index=True)\n",
    "\n",
    "# minor changes\n",
    "df = df.rename(columns={\"Time Stamp\": \"timestamp\"})\n",
    "df = df.replace(\"\\\\N\", np.nan)\n",
    "\n",
    "# update data types. object is taken as default\n",
    "dtypes = dict([(col, np.float64) for col in df.columns])\n",
    "dtypes[\"timestamp\"] = \"datetime64[ns]\"\n",
    "df = df.astype(dtypes)\n",
    "\n",
    "# change the index to timestamp.\n",
    "df.index = df.timestamp"
   ]
  },
  {
   "cell_type": "code",
   "execution_count": 30,
   "metadata": {
    "collapsed": true
   },
   "outputs": [],
   "source": [
    "BATCH_SIZE = 250"
   ]
  },
  {
   "cell_type": "markdown",
   "metadata": {},
   "source": [
    "## Data sanitizing"
   ]
  },
  {
   "cell_type": "code",
   "execution_count": 18,
   "metadata": {},
   "outputs": [],
   "source": [
    "# Sample time series. Let's select a period and model for that.. \n",
    "ts = df[\"2017-01-01\": \"2017-01\"]"
   ]
  },
  {
   "cell_type": "markdown",
   "metadata": {},
   "source": [
    "**TODO:** Split the time series into chunks. Each chunk breaks when the field value is null. Train all the chunks separately."
   ]
  },
  {
   "cell_type": "code",
   "execution_count": 19,
   "metadata": {
    "collapsed": true
   },
   "outputs": [],
   "source": [
    "# Preprocessing: Interpolate null values in the `fields`\n",
    "# Note: This does not eliminate all null values if their continuous sequence > window size.\n",
    "fields = [\"cwshdr\", \"loadsys\", \"drybulb\", \"rh\", \"cwrhdr\"]\n",
    "rolling_avg = ts[fields].rolling(10, min_periods=1).mean()\n",
    "\n",
    "# the time series after some sanitization\n",
    "ts = ts[fields].fillna(rolling_avg).fillna(method=\"ffill\").dropna()"
   ]
  },
  {
   "cell_type": "code",
   "execution_count": 20,
   "metadata": {
    "collapsed": true
   },
   "outputs": [],
   "source": [
    "# Normalize this data..\n",
    "scaler = MinMaxScaler(feature_range=(0,1))\n",
    "normalized_ts = scaler.fit_transform(ts)\n",
    "normalized_ts = pd.DataFrame(normalized_ts, columns=fields, index=ts.index.values)"
   ]
  },
  {
   "cell_type": "code",
   "execution_count": 21,
   "metadata": {
    "collapsed": true
   },
   "outputs": [],
   "source": [
    "# split the dataframe for training and validation\n",
    "# dataframe  := Pandas dataframe\n",
    "# ratio := Float, training:validation\n",
    "def train_validation_split(dataframe, ratio):\n",
    "    size = len(dataframe)\n",
    "    train_df = dataframe.iloc[0:int(size*ratio)]\n",
    "    validation_df = dataframe.iloc[int(size*ratio):]\n",
    "    return train_df, validation_df\n",
    "\n",
    "train_df, validation_df = train_validation_split(normalized_ts, 0.7)"
   ]
  },
  {
   "cell_type": "code",
   "execution_count": null,
   "metadata": {
    "collapsed": true
   },
   "outputs": [],
   "source": [
    "# find a length that can be split evenly.. \n",
    "l = train_df.shape[0]\n",
    "l = l - (l % BATCH_SIZE)\n",
    "train_df[:l]"
   ]
  },
  {
   "cell_type": "code",
   "execution_count": 22,
   "metadata": {},
   "outputs": [
    {
     "data": {
      "text/plain": [
       "((31110, 50), (31110,))"
      ]
     },
     "execution_count": 22,
     "metadata": {},
     "output_type": "execute_result"
    }
   ],
   "source": [
    "# prepare feature vectors. the hypothesis is that\n",
    "# y(t) can be determined using x1(k), x2(k), x3(k).... for all k = {t-1, t-2, t-3, ... t-N}, where 0 <= N <= t-1\n",
    "def prepare_features(dataframe, target_field, N=1):\n",
    "    x, y = [], []\n",
    "    for i in range(len(dataframe)-N-1):\n",
    "        x.append(dataframe.values[i:i+N])\n",
    "        y.append(dataframe[target_field].values[i+N])\n",
    "    x = np.array(x)\n",
    "    y = np.array(y)\n",
    "    return x, y\n",
    "\n",
    "train_x, train_y = prepare_features(train_df, \"cwshdr\", N=10)\n",
    "validation_x, validation_y = prepare_features(validation_df, \"cwshdr\", N=10)\n",
    "\n",
    "# reshape data. combine all data points corresponding to a y(t)\n",
    "reshape = lambda a: a.reshape((a.shape[0], a.shape[1] * a.shape[2]))\n",
    "train_x = reshape(train_x)\n",
    "validation_x = reshape(validation_x)\n",
    "train_x.shape, train_y.shape"
   ]
  },
  {
   "cell_type": "markdown",
   "metadata": {},
   "source": [
    "## Prepare model"
   ]
  },
  {
   "cell_type": "code",
   "execution_count": 28,
   "metadata": {
    "collapsed": true,
    "scrolled": false
   },
   "outputs": [],
   "source": [
    "model = Sequential([\n",
    "    LSTM(15, input_shape=(None, train_x.shape[1]), return_sequences=True),\n",
    "    LSTM(10, return_sequences=True),\n",
    "    Dense(1)\n",
    "])\n",
    "\n",
    "tb_callback = TensorBoard(\n",
    "    log_dir=os.path.abspath(data_dst), \n",
    "    histogram_freq=0,\n",
    "    write_graph=True,\n",
    "    write_images=True\n",
    ")\n",
    "\n",
    "model.compile(loss=mean_squared_error, optimizer=\"adam\", metrics=[\"accuracy\"], callbacks=[tb_callback])"
   ]
  },
  {
   "cell_type": "markdown",
   "metadata": {},
   "source": [
    "## Train model"
   ]
  },
  {
   "cell_type": "code",
   "execution_count": 29,
   "metadata": {
    "scrolled": true
   },
   "outputs": [
    {
     "name": "stderr",
     "output_type": "stream",
     "text": [
      "C:\\Anaconda2\\envs\\py3\\lib\\site-packages\\keras\\backend\\tensorflow_backend.py:2094: UserWarning: Expected no kwargs, you passed 1\n",
      "kwargs passed to function are ignored with Tensorflow backend\n",
      "  warnings.warn('\\n'.join(msg))\n"
     ]
    },
    {
     "name": "stdout",
     "output_type": "stream",
     "text": [
      "Train on 31110 samples, validate on 13328 samples\n",
      "Epoch 1/100\n",
      "31110/31110 [==============================] - 17s - loss: 0.0226 - acc: 4.8216e-04 - val_loss: 2.2242e-04 - val_acc: 0.0000e+00\n",
      "Epoch 2/100\n",
      "31110/31110 [==============================] - 15s - loss: 3.8445e-04 - acc: 9.3218e-04 - val_loss: 4.8616e-05 - val_acc: 0.0000e+00\n",
      "Epoch 3/100\n",
      "31110/31110 [==============================] - 16s - loss: 2.3129e-04 - acc: 9.6432e-04 - val_loss: 3.0643e-05 - val_acc: 0.0000e+00\n",
      "Epoch 4/100\n",
      "31110/31110 [==============================] - 16s - loss: 1.7897e-04 - acc: 9.9646e-04 - val_loss: 2.1383e-05 - val_acc: 0.0000e+00\n",
      "Epoch 5/100\n",
      "31110/31110 [==============================] - 15s - loss: 1.5210e-04 - acc: 9.9646e-04 - val_loss: 1.7061e-05 - val_acc: 0.0000e+00\n",
      "Epoch 6/100\n",
      "31110/31110 [==============================] - 15s - loss: 1.3922e-04 - acc: 9.9646e-04 - val_loss: 1.4022e-05 - val_acc: 0.0000e+00\n",
      "Epoch 7/100\n",
      "31110/31110 [==============================] - 16s - loss: 1.2879e-04 - acc: 0.0010 - val_loss: 2.0728e-05 - val_acc: 0.0000e+00\n",
      "Epoch 8/100\n",
      "31110/31110 [==============================] - 15s - loss: 1.2581e-04 - acc: 0.0010 - val_loss: 1.2369e-05 - val_acc: 0.0000e+00\n",
      "Epoch 9/100\n",
      "31110/31110 [==============================] - 15s - loss: 1.2141e-04 - acc: 0.0010 - val_loss: 2.4773e-05 - val_acc: 0.0000e+00\n",
      "Epoch 10/100\n",
      "31110/31110 [==============================] - 15s - loss: 1.2247e-04 - acc: 0.0010 - val_loss: 3.9974e-05 - val_acc: 0.0000e+00\n",
      "Epoch 11/100\n",
      "31110/31110 [==============================] - 15s - loss: 1.1706e-04 - acc: 0.0010 - val_loss: 3.7021e-05 - val_acc: 0.0000e+00\n",
      "Epoch 12/100\n",
      "31110/31110 [==============================] - 14s - loss: 1.1477e-04 - acc: 0.0010 - val_loss: 2.1392e-05 - val_acc: 0.0000e+00\n",
      "Epoch 13/100\n",
      "31110/31110 [==============================] - 14s - loss: 1.1555e-04 - acc: 0.0010 - val_loss: 3.1005e-05 - val_acc: 0.0000e+00\n",
      "Epoch 14/100\n",
      "31110/31110 [==============================] - 16s - loss: 1.1658e-04 - acc: 0.0010 - val_loss: 1.1435e-05 - val_acc: 0.0000e+00\n",
      "Epoch 15/100\n",
      "31110/31110 [==============================] - 17s - loss: 1.1222e-04 - acc: 0.0010 - val_loss: 2.7755e-05 - val_acc: 0.0000e+00\n",
      "Epoch 16/100\n",
      "31110/31110 [==============================] - 15s - loss: 1.0864e-04 - acc: 0.0010 - val_loss: 1.4907e-05 - val_acc: 0.0000e+00\n",
      "Epoch 17/100\n",
      "31110/31110 [==============================] - 15s - loss: 1.1547e-04 - acc: 0.0010 - val_loss: 1.0959e-05 - val_acc: 0.0000e+00\n",
      "Epoch 18/100\n",
      "31110/31110 [==============================] - 14s - loss: 1.0961e-04 - acc: 0.0010 - val_loss: 1.0207e-05 - val_acc: 0.0000e+00\n",
      "Epoch 19/100\n",
      "31110/31110 [==============================] - 14s - loss: 1.0492e-04 - acc: 0.0010 - val_loss: 1.4598e-05 - val_acc: 0.0000e+00\n",
      "Epoch 20/100\n",
      "31110/31110 [==============================] - 16s - loss: 1.1030e-04 - acc: 0.0010 - val_loss: 1.5901e-05 - val_acc: 0.0000e+00\n",
      "Epoch 21/100\n",
      "31110/31110 [==============================] - 14s - loss: 1.0562e-04 - acc: 0.0010 - val_loss: 1.0769e-05 - val_acc: 0.0000e+00\n",
      "Epoch 22/100\n",
      "31110/31110 [==============================] - 15s - loss: 1.0560e-04 - acc: 0.0010 - val_loss: 9.7091e-06 - val_acc: 0.0000e+00\n",
      "Epoch 23/100\n",
      "31110/31110 [==============================] - 15s - loss: 1.0127e-04 - acc: 0.0010 - val_loss: 1.3945e-05 - val_acc: 0.0000e+00\n",
      "Epoch 24/100\n",
      "31110/31110 [==============================] - 16s - loss: 1.0469e-04 - acc: 0.0010 - val_loss: 8.4267e-05 - val_acc: 0.0000e+00\n",
      "Epoch 25/100\n",
      "31110/31110 [==============================] - 15s - loss: 1.0185e-04 - acc: 0.0010 - val_loss: 1.2762e-05 - val_acc: 0.0000e+00\n",
      "Epoch 26/100\n",
      "31110/31110 [==============================] - 15s - loss: 1.0171e-04 - acc: 0.0010 - val_loss: 2.0567e-05 - val_acc: 0.0000e+00\n",
      "Epoch 27/100\n",
      "31110/31110 [==============================] - 16s - loss: 1.0606e-04 - acc: 0.0010 - val_loss: 1.1529e-04 - val_acc: 0.0000e+00\n",
      "Epoch 28/100\n",
      "31110/31110 [==============================] - 16s - loss: 1.0222e-04 - acc: 0.0010 - val_loss: 8.8055e-06 - val_acc: 0.0000e+00\n",
      "Epoch 29/100\n",
      "31110/31110 [==============================] - 15s - loss: 9.9982e-05 - acc: 0.0010 - val_loss: 2.1362e-05 - val_acc: 0.0000e+00\n",
      "Epoch 30/100\n",
      "31110/31110 [==============================] - 15s - loss: 9.7707e-05 - acc: 0.0010 - val_loss: 1.1502e-05 - val_acc: 0.0000e+00\n",
      "Epoch 31/100\n",
      "31110/31110 [==============================] - 15s - loss: 1.0515e-04 - acc: 0.0010 - val_loss: 2.7086e-05 - val_acc: 0.0000e+00\n",
      "Epoch 32/100\n",
      "31110/31110 [==============================] - 14s - loss: 1.0012e-04 - acc: 0.0010 - val_loss: 1.4018e-05 - val_acc: 0.0000e+00\n",
      "Epoch 33/100\n",
      "31110/31110 [==============================] - 15s - loss: 9.8043e-05 - acc: 0.0010 - val_loss: 9.4393e-06 - val_acc: 0.0000e+00\n",
      "Epoch 34/100\n",
      "31110/31110 [==============================] - 15s - loss: 1.0018e-04 - acc: 0.0010 - val_loss: 8.5077e-06 - val_acc: 0.0000e+00\n",
      "Epoch 35/100\n",
      "31110/31110 [==============================] - 15s - loss: 9.7688e-05 - acc: 0.0010 - val_loss: 2.4529e-05 - val_acc: 0.0000e+00\n",
      "Epoch 36/100\n",
      "31110/31110 [==============================] - 15s - loss: 9.6183e-05 - acc: 0.0010 - val_loss: 2.1783e-05 - val_acc: 0.0000e+00\n",
      "Epoch 37/100\n",
      "31110/31110 [==============================] - 15s - loss: 9.8738e-05 - acc: 0.0010 - val_loss: 8.5918e-06 - val_acc: 0.0000e+00\n",
      "Epoch 38/100\n",
      "31110/31110 [==============================] - 15s - loss: 9.7513e-05 - acc: 0.0010 - val_loss: 7.8372e-06 - val_acc: 0.0000e+00\n",
      "Epoch 39/100\n",
      "31110/31110 [==============================] - 14s - loss: 9.4464e-05 - acc: 0.0010 - val_loss: 1.5392e-04 - val_acc: 0.0000e+00\n",
      "Epoch 40/100\n",
      "31110/31110 [==============================] - 15s - loss: 9.5236e-05 - acc: 0.0010 - val_loss: 2.0278e-05 - val_acc: 0.0000e+00\n",
      "Epoch 41/100\n",
      "31110/31110 [==============================] - 14s - loss: 9.6891e-05 - acc: 0.0010 - val_loss: 6.2043e-05 - val_acc: 0.0000e+00\n",
      "Epoch 42/100\n",
      "31110/31110 [==============================] - 15s - loss: 9.4820e-05 - acc: 0.0010 - val_loss: 7.8136e-06 - val_acc: 0.0000e+00\n",
      "Epoch 43/100\n",
      "31110/31110 [==============================] - 14s - loss: 9.1803e-05 - acc: 0.0010 - val_loss: 7.9505e-06 - val_acc: 0.0000e+00\n",
      "Epoch 44/100\n",
      "31110/31110 [==============================] - 15s - loss: 9.3162e-05 - acc: 0.0010 - val_loss: 8.5071e-06 - val_acc: 0.0000e+00\n",
      "Epoch 45/100\n",
      "31110/31110 [==============================] - 15s - loss: 9.5567e-05 - acc: 0.0010 - val_loss: 1.0096e-05 - val_acc: 0.0000e+00\n",
      "Epoch 46/100\n",
      "31110/31110 [==============================] - 15s - loss: 9.2158e-05 - acc: 0.0010 - val_loss: 9.0421e-06 - val_acc: 0.0000e+00\n",
      "Epoch 47/100\n",
      "31110/31110 [==============================] - 14s - loss: 9.3928e-05 - acc: 0.0010 - val_loss: 1.2430e-05 - val_acc: 0.0000e+00\n",
      "Epoch 48/100\n",
      "31110/31110 [==============================] - 14s - loss: 9.0849e-05 - acc: 0.0010 - val_loss: 1.8957e-05 - val_acc: 0.0000e+00\n",
      "Epoch 49/100\n",
      "31110/31110 [==============================] - 15s - loss: 9.6082e-05 - acc: 0.0010 - val_loss: 7.4881e-06 - val_acc: 0.0000e+00\n",
      "Epoch 50/100\n",
      "31110/31110 [==============================] - 14s - loss: 9.0252e-05 - acc: 0.0010 - val_loss: 7.8186e-06 - val_acc: 0.0000e+00\n",
      "Epoch 51/100\n",
      "31110/31110 [==============================] - 14s - loss: 9.0960e-05 - acc: 0.0010 - val_loss: 2.8350e-05 - val_acc: 0.0000e+00\n",
      "Epoch 52/100\n",
      "31110/31110 [==============================] - 14s - loss: 9.0291e-05 - acc: 0.0010 - val_loss: 1.4285e-05 - val_acc: 0.0000e+00\n",
      "Epoch 53/100\n",
      "31110/31110 [==============================] - 15s - loss: 8.8906e-05 - acc: 0.0010 - val_loss: 1.2047e-05 - val_acc: 0.0000e+00\n",
      "Epoch 54/100\n",
      "31110/31110 [==============================] - 15s - loss: 9.2159e-05 - acc: 0.0010 - val_loss: 8.2507e-06 - val_acc: 0.0000e+00\n",
      "Epoch 55/100\n",
      "31110/31110 [==============================] - 14s - loss: 8.8495e-05 - acc: 0.0010 - val_loss: 8.3674e-06 - val_acc: 0.0000e+00\n",
      "Epoch 56/100\n",
      "31110/31110 [==============================] - 14s - loss: 9.2223e-05 - acc: 0.0010 - val_loss: 8.0272e-06 - val_acc: 0.0000e+00\n",
      "Epoch 57/100\n",
      "31110/31110 [==============================] - 14s - loss: 8.7004e-05 - acc: 0.0010 - val_loss: 1.4934e-05 - val_acc: 0.0000e+00\n",
      "Epoch 58/100\n"
     ]
    },
    {
     "name": "stdout",
     "output_type": "stream",
     "text": [
      "31110/31110 [==============================] - 15s - loss: 8.8102e-05 - acc: 0.0010 - val_loss: 8.6491e-06 - val_acc: 0.0000e+00\n",
      "Epoch 59/100\n",
      "31110/31110 [==============================] - 15s - loss: 9.2414e-05 - acc: 0.0010 - val_loss: 1.6131e-05 - val_acc: 0.0000e+00\n",
      "Epoch 60/100\n",
      "31110/31110 [==============================] - 15s - loss: 9.3078e-05 - acc: 0.0010 - val_loss: 1.2220e-05 - val_acc: 0.0000e+00\n",
      "Epoch 61/100\n",
      "31110/31110 [==============================] - 15s - loss: 9.1495e-05 - acc: 0.0010 - val_loss: 1.0840e-05 - val_acc: 0.0000e+00\n",
      "Epoch 62/100\n",
      "31110/31110 [==============================] - 15s - loss: 8.7008e-05 - acc: 0.0010 - val_loss: 1.1495e-05 - val_acc: 0.0000e+00\n",
      "Epoch 63/100\n",
      "31110/31110 [==============================] - 16s - loss: 8.8531e-05 - acc: 0.0010 - val_loss: 1.0598e-05 - val_acc: 0.0000e+00\n",
      "Epoch 64/100\n",
      "31110/31110 [==============================] - 15s - loss: 8.6607e-05 - acc: 0.0010 - val_loss: 1.1623e-05 - val_acc: 0.0000e+00\n",
      "Epoch 65/100\n",
      "31110/31110 [==============================] - 15s - loss: 8.6106e-05 - acc: 0.0010 - val_loss: 9.5266e-06 - val_acc: 0.0000e+00\n",
      "Epoch 66/100\n",
      "31110/31110 [==============================] - 15s - loss: 8.7763e-05 - acc: 0.0010 - val_loss: 9.0435e-06 - val_acc: 0.0000e+00\n",
      "Epoch 67/100\n",
      "31110/31110 [==============================] - 15s - loss: 8.8601e-05 - acc: 0.0010 - val_loss: 8.0813e-06 - val_acc: 0.0000e+00\n",
      "Epoch 68/100\n",
      "31110/31110 [==============================] - 14s - loss: 8.7846e-05 - acc: 0.0010 - val_loss: 5.0367e-05 - val_acc: 0.0000e+00\n",
      "Epoch 69/100\n",
      "31110/31110 [==============================] - 15s - loss: 8.3970e-05 - acc: 0.0010 - val_loss: 1.1121e-05 - val_acc: 0.0000e+00\n",
      "Epoch 70/100\n",
      "31110/31110 [==============================] - 15s - loss: 8.5942e-05 - acc: 0.0010 - val_loss: 8.3898e-06 - val_acc: 0.0000e+00\n",
      "Epoch 71/100\n",
      "31110/31110 [==============================] - 15s - loss: 8.7351e-05 - acc: 0.0010 - val_loss: 7.3592e-06 - val_acc: 0.0000e+00\n",
      "Epoch 72/100\n",
      "31110/31110 [==============================] - 14s - loss: 8.4809e-05 - acc: 0.0010 - val_loss: 3.7531e-05 - val_acc: 0.0000e+00\n",
      "Epoch 73/100\n",
      "31110/31110 [==============================] - 15s - loss: 8.9065e-05 - acc: 0.0010 - val_loss: 1.0789e-05 - val_acc: 0.0000e+00\n",
      "Epoch 74/100\n",
      "31110/31110 [==============================] - 15s - loss: 8.2425e-05 - acc: 0.0010 - val_loss: 8.1013e-06 - val_acc: 0.0000e+00\n",
      "Epoch 75/100\n",
      "31110/31110 [==============================] - 15s - loss: 8.6577e-05 - acc: 0.0010 - val_loss: 1.9292e-05 - val_acc: 0.0000e+00\n",
      "Epoch 76/100\n",
      "31110/31110 [==============================] - 15s - loss: 8.5859e-05 - acc: 0.0010 - val_loss: 9.4417e-06 - val_acc: 0.0000e+00\n",
      "Epoch 77/100\n",
      "31110/31110 [==============================] - 15s - loss: 8.4489e-05 - acc: 0.0010 - val_loss: 9.6316e-06 - val_acc: 0.0000e+00\n",
      "Epoch 78/100\n",
      "31110/31110 [==============================] - 15s - loss: 8.5762e-05 - acc: 0.0010 - val_loss: 1.1851e-05 - val_acc: 0.0000e+00\n",
      "Epoch 79/100\n",
      "31110/31110 [==============================] - 15s - loss: 8.4774e-05 - acc: 0.0010 - val_loss: 7.3864e-06 - val_acc: 0.0000e+00\n",
      "Epoch 80/100\n",
      "31110/31110 [==============================] - 14s - loss: 8.4172e-05 - acc: 0.0010 - val_loss: 1.6403e-05 - val_acc: 0.0000e+00\n",
      "Epoch 81/100\n",
      "31110/31110 [==============================] - 16s - loss: 8.6654e-05 - acc: 0.0010 - val_loss: 1.0429e-05 - val_acc: 0.0000e+00\n",
      "Epoch 82/100\n",
      "31110/31110 [==============================] - 16s - loss: 8.3886e-05 - acc: 0.0010 - val_loss: 1.5108e-05 - val_acc: 0.0000e+00\n",
      "Epoch 83/100\n",
      "31110/31110 [==============================] - 16s - loss: 8.3621e-05 - acc: 0.0010 - val_loss: 7.5054e-06 - val_acc: 0.0000e+00\n",
      "Epoch 84/100\n",
      "31110/31110 [==============================] - 15s - loss: 8.2913e-05 - acc: 0.0010 - val_loss: 1.5406e-05 - val_acc: 0.0000e+00\n",
      "Epoch 85/100\n",
      "31110/31110 [==============================] - 16s - loss: 8.3907e-05 - acc: 0.0010 - val_loss: 1.3352e-05 - val_acc: 0.0000e+00\n",
      "Epoch 86/100\n",
      "31110/31110 [==============================] - 15s - loss: 8.3931e-05 - acc: 0.0010 - val_loss: 1.0313e-05 - val_acc: 0.0000e+00\n",
      "Epoch 87/100\n",
      "31110/31110 [==============================] - 14s - loss: 8.4019e-05 - acc: 0.0010 - val_loss: 1.0302e-05 - val_acc: 0.0000e+00\n",
      "Epoch 88/100\n",
      "31110/31110 [==============================] - 14s - loss: 8.2204e-05 - acc: 0.0010 - val_loss: 1.1593e-05 - val_acc: 0.0000e+00\n",
      "Epoch 89/100\n",
      "31110/31110 [==============================] - 14s - loss: 8.0058e-05 - acc: 0.0010 - val_loss: 2.2145e-05 - val_acc: 0.0000e+00\n",
      "Epoch 90/100\n",
      "31110/31110 [==============================] - 15s - loss: 8.6079e-05 - acc: 0.0010 - val_loss: 1.2599e-05 - val_acc: 0.0000e+00\n",
      "Epoch 91/100\n",
      "31110/31110 [==============================] - 14s - loss: 8.2830e-05 - acc: 0.0010 - val_loss: 1.0204e-05 - val_acc: 0.0000e+00\n",
      "Epoch 92/100\n",
      "31110/31110 [==============================] - 15s - loss: 7.9026e-05 - acc: 0.0010 - val_loss: 8.8047e-06 - val_acc: 0.0000e+00\n",
      "Epoch 93/100\n",
      "31110/31110 [==============================] - 14s - loss: 7.9754e-05 - acc: 0.0010 - val_loss: 1.0496e-05 - val_acc: 0.0000e+00\n",
      "Epoch 94/100\n",
      "31110/31110 [==============================] - 14s - loss: 8.2186e-05 - acc: 0.0010 - val_loss: 1.1100e-05 - val_acc: 0.0000e+00\n",
      "Epoch 95/100\n",
      "31110/31110 [==============================] - 14s - loss: 8.0228e-05 - acc: 0.0010 - val_loss: 1.0521e-05 - val_acc: 0.0000e+00\n",
      "Epoch 96/100\n",
      "31110/31110 [==============================] - 14s - loss: 8.0070e-05 - acc: 0.0010 - val_loss: 1.7891e-05 - val_acc: 0.0000e+00\n",
      "Epoch 97/100\n",
      "31110/31110 [==============================] - 15s - loss: 8.1091e-05 - acc: 0.0010 - val_loss: 6.9805e-06 - val_acc: 0.0000e+00\n",
      "Epoch 98/100\n",
      "31110/31110 [==============================] - 15s - loss: 8.1057e-05 - acc: 0.0010 - val_loss: 1.1169e-05 - val_acc: 0.0000e+00\n",
      "Epoch 99/100\n",
      "31110/31110 [==============================] - 14s - loss: 8.2117e-05 - acc: 0.0010 - val_loss: 1.1244e-05 - val_acc: 0.0000e+00\n",
      "Epoch 100/100\n",
      "31110/31110 [==============================] - 14s - loss: 7.9748e-05 - acc: 0.0010 - val_loss: 1.7640e-05 - val_acc: 0.0000e+00\n"
     ]
    }
   ],
   "source": [
    "# This is how keras wants!!\n",
    "reshape_x = lambda a: a.reshape((a.shape[0], 1, a.shape[1]))\n",
    "reshape_y = lambda a: a.reshape((a.shape[0], 1, 1))\n",
    "\n",
    "history = model.fit(\n",
    "    x=reshape_x(train_x),\n",
    "    y=reshape_y(train_y),\n",
    "    validation_data=(reshape_x(validation_x), reshape_y(validation_y)),\n",
    "    epochs=100)"
   ]
  },
  {
   "cell_type": "markdown",
   "metadata": {},
   "source": [
    "## Metrics"
   ]
  },
  {
   "cell_type": "code",
   "execution_count": 58,
   "metadata": {},
   "outputs": [
    {
     "data": {
      "text/plain": [
       "<matplotlib.text.Text at 0x342331d0>"
      ]
     },
     "execution_count": 58,
     "metadata": {},
     "output_type": "execute_result"
    },
    {
     "data": {
      "image/png": "[encoded data removed]",
      "text/plain": [
       "<matplotlib.figure.Figure at 0x3f846da0>"
      ]
     },
     "metadata": {},
     "output_type": "display_data"
    }
   ],
   "source": [
    "import matplotlib.pyplot as plt\n",
    "\n",
    "fig, ax = plt.subplots(1,1, figsize=(5,5))\n",
    "ax.plot(history.history[\"loss\"])\n",
    "ax.set_xlabel(\"Epoch\")\n",
    "ax.set_ylabel(\"Loss\")"
   ]
  },
  {
   "cell_type": "code",
   "execution_count": 75,
   "metadata": {},
   "outputs": [
    {
     "name": "stdout",
     "output_type": "stream",
     "text": [
      "MSE:  0.0190696822955\n"
     ]
    }
   ],
   "source": [
    "predicted_y = model.predict(reshape_x(validation_x))\n",
    "predicted_y = predicted_y.reshape((predicted_y.shape[0],))\n",
    "\n",
    "def inv_scaled(y):\n",
    "    y = y.copy()\n",
    "    y -= scaler.min_[0]\n",
    "    y /= scaler.scale_[0]\n",
    "    return y\n",
    "\n",
    "from sklearn import metrics\n",
    "print(\"MSE: \", metrics.mean_squared_error(inv_scaled(validation_y), inv_scaled(predicted_y)))"
   ]
  },
  {
   "cell_type": "code",
   "execution_count": 42,
   "metadata": {
    "collapsed": true
   },
   "outputs": [],
   "source": [
    "model_file = os.path.join(data_dst, \"lstm3.h5\")\n",
    "model.save(model_file)\n",
    "\n",
    "model_arch_file = os.path.join(data_src, \"lstm3.json\")\n",
    "with open(model_arch_file, \"wb\") as fp:\n",
    "    fp.write(model.to_json().encode())"
   ]
  },
  {
   "cell_type": "markdown",
   "metadata": {
    "collapsed": true
   },
   "source": [
    "## Forecast"
   ]
  },
  {
   "cell_type": "code",
   "execution_count": 79,
   "metadata": {},
   "outputs": [
    {
     "data": {
      "image/png": "[encoded data removed]",
      "text/plain": [
       "<matplotlib.figure.Figure at 0x3fa56668>"
      ]
     },
     "metadata": {},
     "output_type": "display_data"
    }
   ],
   "source": [
    "plot_df = pd.DataFrame({\n",
    "    \"original\": inv_scaled(validation_y),\n",
    "    \"predicted\": inv_scaled(predicted_y)\n",
    "}, index=validation_df.index.values[11:])  # 11, look back features..\n",
    "\n",
    "ax = plot_df[\"2017-01-23 06:00:00\":\"2017-01-23 12:00:00\"].plot(figsize=(36,6))"
   ]
  }
 ],
 "metadata": {
  "kernelspec": {
   "display_name": "Python 3",
   "language": "python",
   "name": "python3"
  },
  "language_info": {
   "codemirror_mode": {
    "name": "ipython",
    "version": 3
   },
   "file_extension": ".py",
   "mimetype": "text/x-python",
   "name": "python",
   "nbconvert_exporter": "python",
   "pygments_lexer": "ipython3",
   "version": "3.6.1"
  }
 },
 "nbformat": 4,
 "nbformat_minor": 2
}
