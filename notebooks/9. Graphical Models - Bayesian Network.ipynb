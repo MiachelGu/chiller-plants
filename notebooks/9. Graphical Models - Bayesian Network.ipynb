{
 "cells": [
  {
   "cell_type": "markdown",
   "metadata": {},
   "source": [
    "# Exploring Graphical Models\n",
    "Thought experiment: We are predicting time series with various features using regression techniques. How does the probablisitic relationships look like? Can we establish some relationships among the features (hopefully causal) whereby helping our regression models!! Who knows, a simple chain of conditional probability could demonstrate better results than a Neural Network model (with which I have personal trust issues :p )"
   ]
  },
  {
   "cell_type": "code",
   "execution_count": 4,
   "metadata": {
    "collapsed": true
   },
   "outputs": [],
   "source": [
    "%matplotlib inline\n",
    "\n",
    "from pgmpy.models import BayesianModel\n",
    "from pgmpy.estimators import BayesianEstimator\n",
    "from pgmpy.estimators import BdeuScore, K2Score, BicScore\n",
    "\n",
    "import math\n",
    "import pandas as pd\n",
    "import numpy as np\n",
    "import matplotlib.pyplot as plt\n",
    "\n",
    "import common"
   ]
  },
  {
   "cell_type": "code",
   "execution_count": 2,
   "metadata": {},
   "outputs": [
    {
     "name": "stdout",
     "output_type": "stream",
     "text": [
      "CacheInfo(hits=0, misses=1, maxsize=None, currsize=1)\n"
     ]
    }
   ],
   "source": [
    "df = common.load_df(\"../data/insead\", \"*21*.csv\")\n",
    "print(common.load_df.cache_info())"
   ]
  },
  {
   "cell_type": "markdown",
   "metadata": {},
   "source": [
    "## Case 1: Examine our assumptions so far"
   ]
  },
  {
   "cell_type": "code",
   "execution_count": null,
   "metadata": {},
   "outputs": [],
   "source": [
    "data = df[\"2017-01-01 9:00\":\"2017-01-01 10:00\"]\n",
    "data = data[[\"loadsys\", \"drybulb\", \"rh\", \"cwrhdr\", \"cwshdr\"]]\n",
    "\n",
    "scores = [BdeuScore(data), K2Score(data), BicScore(data)]\n",
    "\n",
    "model1 = BayesianModel([\n",
    "    (\"loadsys\", \"cwshdr\"),\n",
    "    (\"drybulb\", \"cwshdr\"),\n",
    "    (\"rh\", \"cwshdr\"),\n",
    "    (\"cwrhdr\", \"cwshdr\")\n",
    "])\n",
    "\n",
    "for s in scores:\n",
    "    print(s.__class__, s.score(model1))"
   ]
  }
 ],
 "metadata": {
  "kernelspec": {
   "display_name": "Python 3",
   "language": "python",
   "name": "python3"
  },
  "language_info": {
   "codemirror_mode": {
    "name": "ipython",
    "version": 3
   },
   "file_extension": ".py",
   "mimetype": "text/x-python",
   "name": "python",
   "nbconvert_exporter": "python",
   "pygments_lexer": "ipython3",
   "version": "3.6.1"
  }
 },
 "nbformat": 4,
 "nbformat_minor": 2
}
