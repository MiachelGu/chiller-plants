{
 "cells": [
  {
   "cell_type": "markdown",
   "metadata": {},
   "source": [
    "# Missing values\n",
    "\n",
    "1. This notebook explores the approaches to handle missing values\n",
    "2. INSEAD Chiller Plant data is first considered. However, North Point would be ideal (let's probably use it as well)"
   ]
  },
  {
   "cell_type": "code",
   "execution_count": 1,
   "metadata": {
    "collapsed": true
   },
   "outputs": [],
   "source": [
    "% matplotlib inline \n",
    "\n",
    "import matplotlib.pyplot as plt\n",
    "import pandas as pd\n",
    "import numpy as np\n",
    "import glob\n",
    "import os"
   ]
  },
  {
   "cell_type": "code",
   "execution_count": 136,
   "metadata": {},
   "outputs": [],
   "source": [
    "# load data\n",
    "def load_df(src, pattern):\n",
    "    all_files = glob.glob(os.path.join(src, pattern))\n",
    "    df = pd.concat([pd.read_csv(f, low_memory=False) for f in all_files], ignore_index=True)\n",
    "\n",
    "    # minor changes\n",
    "    df = df.rename(columns={\"Time Stamp\": \"timestamp\"})\n",
    "    df = df.replace(\"\\\\N\", np.nan)\n",
    "\n",
    "    # update data types. object is taken as default\n",
    "    dtypes = dict([(col, np.float64) for col in df.columns])\n",
    "    dtypes[\"timestamp\"] = \"datetime64[ns]\"\n",
    "    df = df.astype(dtypes)\n",
    "\n",
    "    # change the index to timestamp.\n",
    "    df.index = df.timestamp\n",
    "    \n",
    "    return df\n",
    "\n",
    "# load all csv files of North-point site. Concatenate them..\n",
    "data_src = \"../data/insead\"\n",
    "pattern = \"*21*.csv\" # don't want to load all data (500MB or more!)\n",
    "df = load_df(data_src, pattern)"
   ]
  },
  {
   "cell_type": "code",
   "execution_count": 45,
   "metadata": {},
   "outputs": [
    {
     "data": {
      "text/plain": [
       "timestamp       0.000000\n",
       "chwrhdr         0.000000\n",
       "chwshdr         0.015236\n",
       "chwsfhdr        0.000000\n",
       "cwshdr          0.000000\n",
       "cwrhdr          0.000000\n",
       "cwsfhdr         0.029087\n",
       "ch1kw           0.000000\n",
       "ch2kw           0.000000\n",
       "ch3kw           0.000000\n",
       "chwp1kw         0.000000\n",
       "chwp2kw         0.000000\n",
       "chwp3kw         2.156584\n",
       "chwp4kw         9.131117\n",
       "cwp1kw          0.000346\n",
       "cwp2kw          0.000000\n",
       "cwp3kw         44.370976\n",
       "ct1kw           0.000000\n",
       "ct2akw          0.000000\n",
       "incomingkw1     0.000000\n",
       "incomingkw2     0.000000\n",
       "rh              0.000693\n",
       "drybulb         0.000000\n",
       "chiller_eff     0.361162\n",
       "cwp_eff         0.361162\n",
       "chwp_eff        0.361162\n",
       "ct_eff          0.361162\n",
       "chwgpmrt        0.356661\n",
       "cwgpmrt         0.363932\n",
       "systotpower     0.000000\n",
       "loadsys         0.354929\n",
       "effsys          0.358046\n",
       "hbsys          29.694241\n",
       "dtype: float64"
      ]
     },
     "execution_count": 45,
     "metadata": {},
     "output_type": "execute_result"
    }
   ],
   "source": [
    "(df < 0).sum() * 100 / df.count()"
   ]
  },
  {
   "cell_type": "code",
   "execution_count": 46,
   "metadata": {
    "scrolled": false
   },
   "outputs": [
    {
     "data": {
      "text/plain": [
       "timestamp      0.000000\n",
       "chwrhdr        0.000000\n",
       "chwshdr        0.000000\n",
       "chwsfhdr       0.000000\n",
       "cwshdr         0.000000\n",
       "cwrhdr         0.000000\n",
       "cwsfhdr        0.000000\n",
       "ch1kw          0.000000\n",
       "ch2kw          0.000000\n",
       "ch3kw          0.000000\n",
       "chwp1kw        0.000000\n",
       "chwp2kw        0.000000\n",
       "chwp3kw        0.000000\n",
       "chwp4kw        0.021820\n",
       "cwp1kw         0.000000\n",
       "cwp2kw         0.000000\n",
       "cwp3kw         0.501131\n",
       "ct1kw          0.000000\n",
       "ct2akw         0.010043\n",
       "incomingkw1    0.021820\n",
       "incomingkw2    0.021820\n",
       "rh             0.021127\n",
       "drybulb        0.021127\n",
       "chiller_eff    0.000000\n",
       "cwp_eff        0.000000\n",
       "chwp_eff       0.000000\n",
       "ct_eff         0.000000\n",
       "chwgpmrt       0.000000\n",
       "cwgpmrt        0.000000\n",
       "systotpower    0.000000\n",
       "loadsys        0.000000\n",
       "effsys         0.000000\n",
       "hbsys          0.000000\n",
       "dtype: float64"
      ]
     },
     "execution_count": 46,
     "metadata": {},
     "output_type": "execute_result"
    }
   ],
   "source": [
    "df.isnull().sum() * 100 / df.count()"
   ]
  },
  {
   "cell_type": "code",
   "execution_count": 137,
   "metadata": {},
   "outputs": [],
   "source": [
    "# step 0: remove negative values from the columns\n",
    "def remove_negatives(df, columns=[]):\n",
    "    columns = columns or df.columns\n",
    "    for col in columns:\n",
    "        if col != \"timestamp\":\n",
    "            df.loc[df[col] < 0, col] = 0\n",
    "    return df\n",
    "\n",
    "df = remove_negatives(df)"
   ]
  },
  {
   "cell_type": "code",
   "execution_count": 138,
   "metadata": {},
   "outputs": [
    {
     "name": "stdout",
     "output_type": "stream",
     "text": [
      "0.0 24.832 4.672\n",
      "62905\n",
      "74667\n",
      "0\n",
      "0\n"
     ]
    }
   ],
   "source": [
    "# Need to identify values when plant is possibly shutdown..\n",
    "# Look at CT1KW < 0.1.. Is it realistic that plant is working at 0.1kw?\n",
    "print(df.ct1kw.min(), df.ct1kw.max(), df.ct1kw.median())\n",
    "print(((df.ct1kw > 0) & (df.ct1kw < 0.1)).sum())\n",
    "print(((df.ct2akw > 0) & (df.ct2akw < 0.1)).sum())\n",
    "\n",
    "def identify_ct_shutdown(df, ctkw_cols=[], thresh=0.1):\n",
    "    ctkw_cols = ctkw_cols or [i for i in df.columns if i.startswith(\"ct\") and i.endswith(\"kw\")]\n",
    "    for col in ctkw_cols:\n",
    "        df[col + \"_shutdown\"] = 0\n",
    "        df.loc[df[col] < thresh, col + \"_shutdown\"] = 1\n",
    "    return df\n",
    "\n",
    "\n",
    "# replace ctkw < thresh values with 0\n",
    "def replace_ct_values(df, ctkw_cols=[], thresh=0.1):\n",
    "    ctkw_cols = ctkw_cols or [i for i in df.columns if i.startswith(\"ct\") and i.endswith(\"kw\")]\n",
    "    for col in ctkw_cols:\n",
    "        df.loc[df[col] < thresh, col] = 0\n",
    "    return df\n",
    "\n",
    "df = identify_ct_shutdown(df)\n",
    "df = replace_ct_values(df)\n",
    "\n",
    "\n",
    "print(((df.ct1kw > 0) & (df.ct1kw < 0.1)).sum())\n",
    "print(((df.ct2akw > 0) & (df.ct2akw < 0.1)).sum())"
   ]
  },
  {
   "cell_type": "code",
   "execution_count": null,
   "metadata": {
    "collapsed": true
   },
   "outputs": [],
   "source": [
    "# Handling Null data..\n",
    "\n",
    "# Take rolling average. Doesn't cover all data if the sequence is looong\n",
    "# We don't want to have a big window either.. (might pollute data)\n",
    "def missing_approach1(df, columns)\n",
    "    df[columns] = df[columns].rolling(5, min_periods=1).mean()\n",
    "    return df\n",
    "\n",
    "# Look back. Replace the value with previous day's\n",
    "# if the null sequence is too long, we'd get a flat signal. Possibly a \n",
    "def missing_approach2(df, columns, lookback=3):\n",
    "    pass"
   ]
  }
 ],
 "metadata": {
  "kernelspec": {
   "display_name": "Python 3",
   "language": "python",
   "name": "python3"
  },
  "language_info": {
   "codemirror_mode": {
    "name": "ipython",
    "version": 3
   },
   "file_extension": ".py",
   "mimetype": "text/x-python",
   "name": "python",
   "nbconvert_exporter": "python",
   "pygments_lexer": "ipython3",
   "version": "3.6.1"
  }
 },
 "nbformat": 4,
 "nbformat_minor": 2
}
