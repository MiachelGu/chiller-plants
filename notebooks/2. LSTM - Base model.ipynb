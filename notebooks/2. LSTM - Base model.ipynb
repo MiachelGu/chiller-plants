{
 "cells": [
  {
   "cell_type": "code",
   "execution_count": 1,
   "metadata": {},
   "outputs": [
    {
     "name": "stdout",
     "output_type": "stream",
     "text": [
      "env: KERAS_BACKEND=tensorflow\n"
     ]
    }
   ],
   "source": [
    "%env KERAS_BACKEND=tensorflow\n",
    "%matplotlib inline"
   ]
  },
  {
   "cell_type": "code",
   "execution_count": 2,
   "metadata": {},
   "outputs": [
    {
     "name": "stderr",
     "output_type": "stream",
     "text": [
      "Using TensorFlow backend.\n"
     ]
    }
   ],
   "source": [
    "import pandas as pd\n",
    "import numpy as np\n",
    "import glob\n",
    "import os\n",
    "\n",
    "from keras.models import Sequential\n",
    "from keras.layers import Dense\n",
    "from keras.layers import LSTM\n",
    "from keras.losses import mean_squared_error\n",
    "from sklearn.preprocessing import MinMaxScaler"
   ]
  },
  {
   "cell_type": "markdown",
   "metadata": {},
   "source": [
    "## Load data"
   ]
  },
  {
   "cell_type": "code",
   "execution_count": 3,
   "metadata": {
    "collapsed": true
   },
   "outputs": [],
   "source": [
    "# load all csv files of North-point site. Concatenate them..\n",
    "data_src = \"../data\"\n",
    "data_dst = \"../output\"\n",
    "all_files = glob.glob(os.path.join(data_src, \"np\", \"*.csv\"))\n",
    "df = pd.concat([pd.read_csv(f, low_memory=False) for f in all_files], ignore_index=True)\n",
    "\n",
    "# minor changes\n",
    "df = df.rename(columns={\"Time Stamp\": \"timestamp\"})\n",
    "df = df.replace(\"\\\\N\", np.nan)\n",
    "\n",
    "# update data types. object is taken as default\n",
    "dtypes = dict([(col, np.float64) for col in df.columns])\n",
    "dtypes[\"timestamp\"] = \"datetime64[ns]\"\n",
    "df = df.astype(dtypes)\n",
    "\n",
    "# change the index to timestamp.\n",
    "df.index = df.timestamp"
   ]
  },
  {
   "cell_type": "markdown",
   "metadata": {},
   "source": [
    "## Data sanitizing"
   ]
  },
  {
   "cell_type": "code",
   "execution_count": 4,
   "metadata": {
    "collapsed": true
   },
   "outputs": [],
   "source": [
    "# Sample time series. Let's select a period and model for that.. \n",
    "ts = df[\"2017-01-01\": \"2017-01\"]"
   ]
  },
  {
   "cell_type": "markdown",
   "metadata": {},
   "source": [
    "**TODO:** Split the time series into chunks. Each chunk breaks when the field value is null. Train all the chunks separately."
   ]
  },
  {
   "cell_type": "code",
   "execution_count": 5,
   "metadata": {
    "collapsed": true
   },
   "outputs": [],
   "source": [
    "# Preprocessing: Interpolate null values in the `fields`\n",
    "# Note: This does not eliminate all null values if their continuous sequence > window size.\n",
    "fields = [\"loadsys\", \"wetbulb\", \"ct1kw\", \"ct2kw\", \"ct3kw\", \"cwshdr\"]\n",
    "rolling_avg = ts[fields].rolling(10, min_periods=1).mean()\n",
    "\n",
    "# the time series after some sanitization\n",
    "ts = ts[fields].fillna(rolling_avg).fillna(method=\"ffill\").dropna()"
   ]
  },
  {
   "cell_type": "code",
   "execution_count": 6,
   "metadata": {},
   "outputs": [],
   "source": [
    "# Normalize this data..\n",
    "scaler = MinMaxScaler(feature_range=(0,1))\n",
    "normalized_ts = scaler.fit_transform(ts)\n",
    "normalized_ts = pd.DataFrame(normalized_ts, columns=fields, index=ts.index.values)"
   ]
  },
  {
   "cell_type": "code",
   "execution_count": 7,
   "metadata": {
    "collapsed": true
   },
   "outputs": [],
   "source": [
    "# split the dataframe for training and validation\n",
    "# dataframe  := Pandas dataframe\n",
    "# ratio := Float, training:validation\n",
    "def train_validation_split(dataframe, ratio):\n",
    "    size = len(dataframe)\n",
    "    train_df = dataframe.iloc[0:int(size*ratio)]\n",
    "    validation_df = dataframe.iloc[int(size*ratio):]\n",
    "    return train_df, validation_df\n",
    "\n",
    "train_df, validation_df = train_validation_split(normalized_ts, 0.7)"
   ]
  },
  {
   "cell_type": "code",
   "execution_count": 11,
   "metadata": {},
   "outputs": [
    {
     "data": {
      "text/plain": [
       "((30677, 30), (30677,))"
      ]
     },
     "execution_count": 11,
     "metadata": {},
     "output_type": "execute_result"
    }
   ],
   "source": [
    "# prepare feature vectors. the hypothesis is that\n",
    "# y(t) can be determined using x1(k), x2(k), x3(k).... for all k = {t-1, t-2, t-3, ... t-N}, where 0 <= N <= t-1\n",
    "def prepare_features(dataframe, target_field, N=1):\n",
    "    x, y = [], []\n",
    "    for i in range(len(dataframe)-N-1):\n",
    "        x.append(dataframe.values[i:i+N])\n",
    "        y.append(dataframe[target_field].values[i+N])\n",
    "    x = np.array(x)\n",
    "    y = np.array(y)\n",
    "    return x, y\n",
    "\n",
    "train_x, train_y = prepare_features(train_df, \"cwshdr\", N=5)\n",
    "validation_x, validation_y = prepare_features(validation_df, \"cwshdr\", N=5)\n",
    "\n",
    "# reshape data. combine all data points corresponding to a y(t)\n",
    "reshape = lambda a: a.reshape((a.shape[0], a.shape[1] * a.shape[2]))\n",
    "train_x = reshape(train_x)\n",
    "validation_x = reshape(validation_x)\n",
    "train_x.shape, train_y.shape"
   ]
  },
  {
   "cell_type": "markdown",
   "metadata": {},
   "source": [
    "## Prepare model"
   ]
  },
  {
   "cell_type": "code",
   "execution_count": 12,
   "metadata": {
    "collapsed": true,
    "scrolled": false
   },
   "outputs": [],
   "source": [
    "model = Sequential([\n",
    "    LSTM(50, input_shape=(None, train_x.shape[1]), return_sequences=True, dropout=0.2, recurrent_dropout=0.2),\n",
    "    LSTM(50, return_sequences=True, dropout=0.2, recurrent_dropout=0.2),\n",
    "    Dense(1)\n",
    "])\n",
    "\n",
    "model.compile(loss=mean_squared_error, optimizer=\"adam\", metrics=[\"accuracy\"])"
   ]
  },
  {
   "cell_type": "markdown",
   "metadata": {},
   "source": [
    "## Train model"
   ]
  },
  {
   "cell_type": "code",
   "execution_count": 13,
   "metadata": {
    "scrolled": true
   },
   "outputs": [
    {
     "name": "stdout",
     "output_type": "stream",
     "text": [
      "Train on 30677 samples, validate on 13144 samples\n",
      "Epoch 1/100\n",
      "30677/30677 [==============================] - 27s - loss: 0.0212 - acc: 0.0109 - val_loss: 0.0299 - val_acc: 0.0104\n",
      "Epoch 2/100\n",
      "30677/30677 [==============================] - 24s - loss: 0.0024 - acc: 0.0133 - val_loss: 0.0102 - val_acc: 0.0923\n",
      "Epoch 3/100\n",
      "30677/30677 [==============================] - 26s - loss: 0.0015 - acc: 0.0140 - val_loss: 0.0042 - val_acc: 0.0924\n",
      "Epoch 4/100\n",
      "30677/30677 [==============================] - 22s - loss: 0.0013 - acc: 0.0140 - val_loss: 0.0019 - val_acc: 0.0924\n",
      "Epoch 5/100\n",
      "30677/30677 [==============================] - 24s - loss: 0.0012 - acc: 0.0140 - val_loss: 0.0019 - val_acc: 0.0924\n",
      "Epoch 6/100\n",
      "30677/30677 [==============================] - 28s - loss: 0.0011 - acc: 0.0140 - val_loss: 0.0020 - val_acc: 0.0924\n",
      "Epoch 7/100\n",
      "30677/30677 [==============================] - 25s - loss: 0.0011 - acc: 0.0140 - val_loss: 0.0021 - val_acc: 0.0924\n",
      "Epoch 8/100\n",
      "30677/30677 [==============================] - 24s - loss: 0.0010 - acc: 0.0140 - val_loss: 0.0023 - val_acc: 0.0924\n",
      "Epoch 9/100\n",
      "30677/30677 [==============================] - 21s - loss: 9.8025e-04 - acc: 0.0140 - val_loss: 0.0017 - val_acc: 0.0924\n",
      "Epoch 10/100\n",
      "30677/30677 [==============================] - 22s - loss: 9.8797e-04 - acc: 0.0140 - val_loss: 0.0015 - val_acc: 0.0924\n",
      "Epoch 11/100\n",
      "30677/30677 [==============================] - 25s - loss: 9.8448e-04 - acc: 0.0140 - val_loss: 0.0018 - val_acc: 0.0924\n",
      "Epoch 12/100\n",
      "30677/30677 [==============================] - 24s - loss: 9.5241e-04 - acc: 0.0140 - val_loss: 0.0016 - val_acc: 0.0924\n",
      "Epoch 13/100\n",
      "30677/30677 [==============================] - 25s - loss: 9.3746e-04 - acc: 0.0140 - val_loss: 0.0021 - val_acc: 0.0925\n",
      "Epoch 14/100\n",
      "30677/30677 [==============================] - 26s - loss: 9.3764e-04 - acc: 0.0140 - val_loss: 0.0013 - val_acc: 0.0926\n",
      "Epoch 15/100\n",
      "30677/30677 [==============================] - 26s - loss: 9.2033e-04 - acc: 0.0140 - val_loss: 0.0017 - val_acc: 0.0926\n",
      "Epoch 16/100\n",
      "30677/30677 [==============================] - 23s - loss: 9.1122e-04 - acc: 0.0140 - val_loss: 0.0015 - val_acc: 0.0925\n",
      "Epoch 17/100\n",
      "30677/30677 [==============================] - 25s - loss: 9.0723e-04 - acc: 0.0140 - val_loss: 0.0017 - val_acc: 0.0924\n",
      "Epoch 18/100\n",
      "30677/30677 [==============================] - 26s - loss: 8.8064e-04 - acc: 0.0141 - val_loss: 0.0016 - val_acc: 0.0926\n",
      "Epoch 19/100\n",
      "30677/30677 [==============================] - 25s - loss: 8.8193e-04 - acc: 0.0140 - val_loss: 0.0014 - val_acc: 0.0926\n",
      "Epoch 20/100\n",
      "30677/30677 [==============================] - 26s - loss: 8.8078e-04 - acc: 0.0141 - val_loss: 0.0012 - val_acc: 0.0926\n",
      "Epoch 21/100\n",
      "30677/30677 [==============================] - 25s - loss: 8.6894e-04 - acc: 0.0141 - val_loss: 0.0017 - val_acc: 0.0926\n",
      "Epoch 22/100\n",
      "30677/30677 [==============================] - 24s - loss: 8.9088e-04 - acc: 0.0141 - val_loss: 0.0015 - val_acc: 0.0926\n",
      "Epoch 23/100\n",
      "30677/30677 [==============================] - 25s - loss: 8.6811e-04 - acc: 0.0141 - val_loss: 0.0013 - val_acc: 0.0926\n",
      "Epoch 24/100\n",
      "30677/30677 [==============================] - 27s - loss: 8.6189e-04 - acc: 0.0141 - val_loss: 0.0019 - val_acc: 0.0926\n",
      "Epoch 25/100\n",
      "30677/30677 [==============================] - 26s - loss: 8.5654e-04 - acc: 0.0141 - val_loss: 0.0015 - val_acc: 0.0926\n",
      "Epoch 26/100\n",
      "30677/30677 [==============================] - 24s - loss: 8.3224e-04 - acc: 0.0141 - val_loss: 0.0014 - val_acc: 0.0927\n",
      "Epoch 27/100\n",
      "30677/30677 [==============================] - 22s - loss: 8.4915e-04 - acc: 0.0141 - val_loss: 0.0012 - val_acc: 0.0926\n",
      "Epoch 28/100\n",
      "30677/30677 [==============================] - 26s - loss: 8.2484e-04 - acc: 0.0141 - val_loss: 0.0013 - val_acc: 0.0926\n",
      "Epoch 29/100\n",
      "30677/30677 [==============================] - 26s - loss: 8.3353e-04 - acc: 0.0141 - val_loss: 0.0016 - val_acc: 0.0926\n",
      "Epoch 30/100\n",
      "30677/30677 [==============================] - 31s - loss: 8.0722e-04 - acc: 0.0141 - val_loss: 0.0012 - val_acc: 0.0926\n",
      "Epoch 31/100\n",
      "30677/30677 [==============================] - 31s - loss: 7.9326e-04 - acc: 0.0141 - val_loss: 7.7056e-04 - val_acc: 0.0926\n",
      "Epoch 32/100\n",
      "30677/30677 [==============================] - 32s - loss: 7.0283e-04 - acc: 0.0141 - val_loss: 0.0012 - val_acc: 0.0926\n",
      "Epoch 33/100\n",
      "30677/30677 [==============================] - 29s - loss: 5.6695e-04 - acc: 0.0141 - val_loss: 0.0032 - val_acc: 0.0926c\n",
      "Epoch 34/100\n",
      "30677/30677 [==============================] - 23s - loss: 4.6605e-04 - acc: 0.0141 - val_loss: 0.0053 - val_acc: 0.0926\n",
      "Epoch 35/100\n",
      "30677/30677 [==============================] - 22s - loss: 4.4275e-04 - acc: 0.0141 - val_loss: 0.0053 - val_acc: 0.0926\n",
      "Epoch 36/100\n",
      "30677/30677 [==============================] - 25s - loss: 3.9987e-04 - acc: 0.0141 - val_loss: 0.0050 - val_acc: 0.0926\n",
      "Epoch 37/100\n",
      "30677/30677 [==============================] - 25s - loss: 4.0478e-04 - acc: 0.0141 - val_loss: 0.0055 - val_acc: 0.0926\n",
      "Epoch 38/100\n",
      "30677/30677 [==============================] - 26s - loss: 3.8862e-04 - acc: 0.0141 - val_loss: 0.0061 - val_acc: 0.0926\n",
      "Epoch 39/100\n",
      "30677/30677 [==============================] - 23s - loss: 3.7509e-04 - acc: 0.0141 - val_loss: 0.0055 - val_acc: 0.0926\n",
      "Epoch 40/100\n",
      "30677/30677 [==============================] - 26s - loss: 3.7767e-04 - acc: 0.0141 - val_loss: 0.0072 - val_acc: 0.0926\n",
      "Epoch 41/100\n",
      "30677/30677 [==============================] - 23s - loss: 3.6711e-04 - acc: 0.0141 - val_loss: 0.0057 - val_acc: 0.0926\n",
      "Epoch 42/100\n",
      "30677/30677 [==============================] - 23s - loss: 3.6973e-04 - acc: 0.0141 - val_loss: 0.0072 - val_acc: 0.0927\n",
      "Epoch 43/100\n",
      "30677/30677 [==============================] - 24s - loss: 3.8945e-04 - acc: 0.0141 - val_loss: 0.0061 - val_acc: 0.0926\n",
      "Epoch 44/100\n",
      "30677/30677 [==============================] - 23s - loss: 3.5689e-04 - acc: 0.0141 - val_loss: 0.0057 - val_acc: 0.0926\n",
      "Epoch 45/100\n",
      "30677/30677 [==============================] - 24s - loss: 3.8443e-04 - acc: 0.0141 - val_loss: 0.0057 - val_acc: 0.0926\n",
      "Epoch 46/100\n",
      "30677/30677 [==============================] - 25s - loss: 3.5749e-04 - acc: 0.0141 - val_loss: 0.0060 - val_acc: 0.0926\n",
      "Epoch 47/100\n",
      "30677/30677 [==============================] - 22s - loss: 3.5095e-04 - acc: 0.0141 - val_loss: 0.0060 - val_acc: 0.0926\n",
      "Epoch 48/100\n",
      "30677/30677 [==============================] - 26s - loss: 3.6760e-04 - acc: 0.0141 - val_loss: 0.0065 - val_acc: 0.0926\n",
      "Epoch 49/100\n",
      "30677/30677 [==============================] - 26s - loss: 3.3103e-04 - acc: 0.0141 - val_loss: 0.0063 - val_acc: 0.0927\n",
      "Epoch 50/100\n",
      "30677/30677 [==============================] - 28s - loss: 3.6756e-04 - acc: 0.0141 - val_loss: 0.0047 - val_acc: 0.0926\n",
      "Epoch 51/100\n",
      "30677/30677 [==============================] - 26s - loss: 3.5632e-04 - acc: 0.0141 - val_loss: 0.0068 - val_acc: 0.0926\n",
      "Epoch 52/100\n",
      "30677/30677 [==============================] - 27s - loss: 3.4265e-04 - acc: 0.0141 - val_loss: 0.0054 - val_acc: 0.0927\n",
      "Epoch 53/100\n",
      "30677/30677 [==============================] - 28s - loss: 3.4721e-04 - acc: 0.0141 - val_loss: 0.0062 - val_acc: 0.0927\n",
      "Epoch 54/100\n",
      "30677/30677 [==============================] - 22s - loss: 3.5361e-04 - acc: 0.0141 - val_loss: 0.0055 - val_acc: 0.0926\n",
      "Epoch 55/100\n",
      "30677/30677 [==============================] - 27s - loss: 3.6800e-04 - acc: 0.0141 - val_loss: 0.0055 - val_acc: 0.0926\n",
      "Epoch 56/100\n",
      "30677/30677 [==============================] - 25s - loss: 3.4783e-04 - acc: 0.0141 - val_loss: 0.0056 - val_acc: 0.0926\n",
      "Epoch 57/100\n",
      "30677/30677 [==============================] - 24s - loss: 3.4703e-04 - acc: 0.0141 - val_loss: 0.0048 - val_acc: 0.0926\n",
      "Epoch 58/100\n",
      "30677/30677 [==============================] - 27s - loss: 3.5076e-04 - acc: 0.0141 - val_loss: 0.0058 - val_acc: 0.0926\n",
      "Epoch 59/100\n",
      "30677/30677 [==============================] - 22s - loss: 3.7068e-04 - acc: 0.0141 - val_loss: 0.0056 - val_acc: 0.0926\n",
      "Epoch 60/100\n",
      "30677/30677 [==============================] - 27s - loss: 3.4381e-04 - acc: 0.0141 - val_loss: 0.0070 - val_acc: 0.0926\n",
      "Epoch 61/100\n",
      "30677/30677 [==============================] - 23s - loss: 3.5141e-04 - acc: 0.0141 - val_loss: 0.0060 - val_acc: 0.0926\n",
      "Epoch 62/100\n"
     ]
    },
    {
     "name": "stdout",
     "output_type": "stream",
     "text": [
      "30677/30677 [==============================] - 25s - loss: 3.3053e-04 - acc: 0.0141 - val_loss: 0.0064 - val_acc: 0.0927\n",
      "Epoch 63/100\n",
      "30677/30677 [==============================] - 27s - loss: 3.5898e-04 - acc: 0.0141 - val_loss: 0.0055 - val_acc: 0.0927\n",
      "Epoch 64/100\n",
      "30677/30677 [==============================] - 30s - loss: 3.3607e-04 - acc: 0.0141 - val_loss: 0.0058 - val_acc: 0.0927\n",
      "Epoch 65/100\n",
      "30677/30677 [==============================] - 28s - loss: 3.5037e-04 - acc: 0.0141 - val_loss: 0.0052 - val_acc: 0.0927\n",
      "Epoch 66/100\n",
      "30677/30677 [==============================] - 32s - loss: 3.4197e-04 - acc: 0.0141 - val_loss: 0.0056 - val_acc: 0.0927\n",
      "Epoch 67/100\n",
      "30677/30677 [==============================] - 32s - loss: 3.6683e-04 - acc: 0.0141 - val_loss: 0.0051 - val_acc: 0.0926\n",
      "Epoch 68/100\n",
      "30677/30677 [==============================] - 32s - loss: 3.4553e-04 - acc: 0.0141 - val_loss: 0.0048 - val_acc: 0.0927\n",
      "Epoch 69/100\n",
      "30677/30677 [==============================] - 32s - loss: 3.6312e-04 - acc: 0.0141 - val_loss: 0.0050 - val_acc: 0.0927\n",
      "Epoch 70/100\n",
      "30677/30677 [==============================] - 32s - loss: 3.4595e-04 - acc: 0.0141 - val_loss: 0.0036 - val_acc: 0.0927\n",
      "Epoch 71/100\n",
      "30677/30677 [==============================] - 30s - loss: 3.3884e-04 - acc: 0.0141 - val_loss: 0.0040 - val_acc: 0.0927\n",
      "Epoch 72/100\n",
      "30677/30677 [==============================] - 32s - loss: 3.3677e-04 - acc: 0.0141 - val_loss: 0.0043 - val_acc: 0.0927\n",
      "Epoch 73/100\n",
      "30677/30677 [==============================] - 32s - loss: 3.7223e-04 - acc: 0.0141 - val_loss: 0.0041 - val_acc: 0.0927\n",
      "Epoch 74/100\n",
      "30677/30677 [==============================] - 32s - loss: 3.3554e-04 - acc: 0.0141 - val_loss: 0.0034 - val_acc: 0.0927\n",
      "Epoch 75/100\n",
      "30677/30677 [==============================] - 32s - loss: 3.3813e-04 - acc: 0.0141 - val_loss: 0.0040 - val_acc: 0.0927\n",
      "Epoch 76/100\n",
      "30677/30677 [==============================] - 32s - loss: 3.4154e-04 - acc: 0.0141 - val_loss: 0.0043 - val_acc: 0.0927\n",
      "Epoch 77/100\n",
      "30677/30677 [==============================] - 30s - loss: 3.4545e-04 - acc: 0.0141 - val_loss: 0.0041 - val_acc: 0.0927\n",
      "Epoch 78/100\n",
      "30677/30677 [==============================] - 32s - loss: 3.4020e-04 - acc: 0.0141 - val_loss: 0.0047 - val_acc: 0.0927\n",
      "Epoch 79/100\n",
      "30677/30677 [==============================] - 31s - loss: 3.4949e-04 - acc: 0.0141 - val_loss: 0.0048 - val_acc: 0.0927\n",
      "Epoch 80/100\n",
      "30677/30677 [==============================] - 32s - loss: 3.3204e-04 - acc: 0.0141 - val_loss: 0.0044 - val_acc: 0.0926\n",
      "Epoch 81/100\n",
      "30677/30677 [==============================] - 31s - loss: 3.5974e-04 - acc: 0.0141 - val_loss: 0.0038 - val_acc: 0.0926\n",
      "Epoch 82/100\n",
      "30677/30677 [==============================] - 32s - loss: 3.4395e-04 - acc: 0.0141 - val_loss: 0.0042 - val_acc: 0.0926\n",
      "Epoch 83/100\n",
      "30677/30677 [==============================] - 32s - loss: 3.1992e-04 - acc: 0.0141 - val_loss: 0.0039 - val_acc: 0.0927\n",
      "Epoch 84/100\n",
      "30677/30677 [==============================] - 32s - loss: 3.3838e-04 - acc: 0.0141 - val_loss: 0.0038 - val_acc: 0.0927\n",
      "Epoch 85/100\n",
      "30677/30677 [==============================] - 33s - loss: 3.2916e-04 - acc: 0.0141 - val_loss: 0.0044 - val_acc: 0.0926\n",
      "Epoch 86/100\n",
      "30677/30677 [==============================] - 33s - loss: 3.5031e-04 - acc: 0.0141 - val_loss: 0.0033 - val_acc: 0.0927\n",
      "Epoch 87/100\n",
      "30677/30677 [==============================] - 32s - loss: 3.4493e-04 - acc: 0.0141 - val_loss: 0.0038 - val_acc: 0.0926\n",
      "Epoch 88/100\n",
      "30677/30677 [==============================] - 30s - loss: 3.3823e-04 - acc: 0.0141 - val_loss: 0.0040 - val_acc: 0.0926\n",
      "Epoch 89/100\n",
      "30677/30677 [==============================] - 32s - loss: 3.5163e-04 - acc: 0.0141 - val_loss: 0.0038 - val_acc: 0.0926\n",
      "Epoch 90/100\n",
      "30677/30677 [==============================] - 31s - loss: 3.3719e-04 - acc: 0.0141 - val_loss: 0.0039 - val_acc: 0.0927\n",
      "Epoch 91/100\n",
      "30677/30677 [==============================] - 32s - loss: 3.1685e-04 - acc: 0.0141 - val_loss: 0.0036 - val_acc: 0.0927\n",
      "Epoch 92/100\n",
      "30677/30677 [==============================] - 32s - loss: 3.2371e-04 - acc: 0.0141 - val_loss: 0.0029 - val_acc: 0.0927\n",
      "Epoch 93/100\n",
      "30677/30677 [==============================] - 33s - loss: 3.3382e-04 - acc: 0.0141 - val_loss: 0.0036 - val_acc: 0.0927\n",
      "Epoch 94/100\n",
      "30677/30677 [==============================] - 32s - loss: 3.3808e-04 - acc: 0.0141 - val_loss: 0.0038 - val_acc: 0.0926\n",
      "Epoch 95/100\n",
      "30677/30677 [==============================] - 32s - loss: 3.3205e-04 - acc: 0.0141 - val_loss: 0.0032 - val_acc: 0.0926\n",
      "Epoch 96/100\n",
      "30677/30677 [==============================] - 32s - loss: 3.2815e-04 - acc: 0.0141 - val_loss: 0.0031 - val_acc: 0.0927\n",
      "Epoch 97/100\n",
      "30677/30677 [==============================] - 32s - loss: 3.3936e-04 - acc: 0.0141 - val_loss: 0.0031 - val_acc: 0.0927\n",
      "Epoch 98/100\n",
      "30677/30677 [==============================] - 32s - loss: 3.2871e-04 - acc: 0.0141 - val_loss: 0.0037 - val_acc: 0.0927\n",
      "Epoch 99/100\n",
      "30677/30677 [==============================] - 32s - loss: 3.1812e-04 - acc: 0.0141 - val_loss: 0.0030 - val_acc: 0.0927\n",
      "Epoch 100/100\n",
      "30677/30677 [==============================] - 32s - loss: 3.3752e-04 - acc: 0.0141 - val_loss: 0.0036 - val_acc: 0.0927\n"
     ]
    }
   ],
   "source": [
    "# This is how keras wants!!\n",
    "reshape_x = lambda a: a.reshape((a.shape[0], 1, a.shape[1]))\n",
    "reshape_y = lambda a: a.reshape((a.shape[0], 1, 1))\n",
    "\n",
    "history = model.fit(\n",
    "    x=reshape_x(train_x),\n",
    "    y=reshape_y(train_y),\n",
    "    validation_data=(reshape_x(validation_x), reshape_y(validation_y)),\n",
    "    epochs=100)"
   ]
  },
  {
   "cell_type": "markdown",
   "metadata": {},
   "source": [
    "## Metrics"
   ]
  },
  {
   "cell_type": "code",
   "execution_count": null,
   "metadata": {
    "collapsed": true
   },
   "outputs": [],
   "source": [
    "loss_list = np.array([history.history[\"loss\"][0] for h in hist_list])\n",
    "ax = plt.subplot(111)\n",
    "ax.plot(loss_list)\n",
    "ax.set_ylim(0.0007, 0.0015)\n",
    "ax.set_xlabel(\"Epoch\")\n",
    "ax.set_ylabel(\"Loss\")"
   ]
  },
  {
   "cell_type": "code",
   "execution_count": null,
   "metadata": {
    "collapsed": true
   },
   "outputs": [],
   "source": [
    "model_file = os.path.join(data_dst, \"lstm2.h5\")\n",
    "model.save(model_file)\n",
    "\n",
    "model_arch_file = os.path.join(data_src, \"lstm2.json\")\n",
    "with open(model_arch_file, \"wb\") as fp:\n",
    "    fp.write(model.to_json().encode())"
   ]
  },
  {
   "cell_type": "markdown",
   "metadata": {
    "collapsed": true
   },
   "source": [
    "## Forecast"
   ]
  },
  {
   "cell_type": "code",
   "execution_count": null,
   "metadata": {},
   "outputs": [],
   "source": [
    "df_plot = pd.DataFrame({\"original\": validation_y})\n",
    "ax = df_plot.plot(figsize=(36,6))"
   ]
  }
 ],
 "metadata": {
  "kernelspec": {
   "display_name": "Python 3",
   "language": "python",
   "name": "python3"
  },
  "language_info": {
   "codemirror_mode": {
    "name": "ipython",
    "version": 3
   },
   "file_extension": ".py",
   "mimetype": "text/x-python",
   "name": "python",
   "nbconvert_exporter": "python",
   "pygments_lexer": "ipython3",
   "version": "3.6.1"
  }
 },
 "nbformat": 4,
 "nbformat_minor": 2
}
